{
 "cells": [
  {
   "cell_type": "code",
   "execution_count": 2,
   "metadata": {},
   "outputs": [],
   "source": [
    "import pandas as pd\n",
    "from sklearn.preprocessing import StandardScaler\n",
    "from sklearn.model_selection import train_test_split\n",
    "from sklearn.linear_model import LogisticRegression\n",
    "from sklearn.metrics import accuracy_score, confusion_matrix, classification_report\n",
    "from sklearn.linear_model import SGDClassifier\n",
    "from sklearn.decomposition import PCA\n",
    "from sklearn.ensemble import RandomForestClassifier\n",
    "from imblearn.over_sampling import SMOTE\n",
    "from imblearn.combine import SMOTEENN\n",
    "from sklearn.neighbors import KNeighborsClassifier\n",
    "from sklearn.model_selection import GridSearchCV\n",
    "from sklearn.tree import DecisionTreeClassifier\n",
    "import xgboost as xgb\n",
    "from utils import evaluate_model, evaluate_model_full"
   ]
  },
  {
   "cell_type": "code",
   "execution_count": 3,
   "metadata": {},
   "outputs": [
    {
     "name": "stderr",
     "output_type": "stream",
     "text": [
      "<>:2: SyntaxWarning: invalid escape sequence '\\c'\n",
      "<>:2: SyntaxWarning: invalid escape sequence '\\c'\n",
      "C:\\Users\\chees\\AppData\\Local\\Temp\\ipykernel_5968\\2300352932.py:2: SyntaxWarning: invalid escape sequence '\\c'\n",
      "  df = pd.read_csv('data\\credit_card_transactions.csv')\n"
     ]
    }
   ],
   "source": [
    "# Import the dataset\n",
    "df = pd.read_csv('data\\credit_card_transactions.csv')"
   ]
  },
  {
   "cell_type": "code",
   "execution_count": 4,
   "metadata": {},
   "outputs": [],
   "source": [
    "# Drop the columns that are not needed\n",
    "df_dropped = df.copy()\n",
    "df_dropped = df_dropped.drop(columns=['Unnamed: 0','trans_date_trans_time','cc_num','first', 'last', 'gender', 'street', 'lat', 'long', 'dob','trans_num','merch_lat', 'merch_long', 'unix_time','city', 'state'])"
   ]
  },
  {
   "cell_type": "code",
   "execution_count": 5,
   "metadata": {},
   "outputs": [],
   "source": [
    "# Fill the missing values in the zipcode column with the value in the zip column\n",
    "df_dropped['merch_zipcode'] = df_dropped['merch_zipcode'].fillna(df_dropped['zip'])"
   ]
  },
  {
   "cell_type": "code",
   "execution_count": 6,
   "metadata": {},
   "outputs": [],
   "source": [
    "# Filter out the rows where the amount is greater than 10000\n",
    "df_copy = df_dropped.copy()\n",
    "df_copy = df_copy[df_copy['amt'] < 10000]"
   ]
  },
  {
   "cell_type": "code",
   "execution_count": 7,
   "metadata": {},
   "outputs": [],
   "source": [
    "# One-hot encode the category column\n",
    "dummies = pd.get_dummies(df_copy['category'], drop_first=True, dtype=int)\n",
    "df_copy = pd.concat([df_copy, dummies], axis=1)\n",
    "df_copy = df_copy.drop(columns=['category'])"
   ]
  },
  {
   "cell_type": "code",
   "execution_count": 8,
   "metadata": {},
   "outputs": [
    {
     "data": {
      "text/html": [
       "<div>\n",
       "<style scoped>\n",
       "    .dataframe tbody tr th:only-of-type {\n",
       "        vertical-align: middle;\n",
       "    }\n",
       "\n",
       "    .dataframe tbody tr th {\n",
       "        vertical-align: top;\n",
       "    }\n",
       "\n",
       "    .dataframe thead th {\n",
       "        text-align: right;\n",
       "    }\n",
       "</style>\n",
       "<table border=\"1\" class=\"dataframe\">\n",
       "  <thead>\n",
       "    <tr style=\"text-align: right;\">\n",
       "      <th></th>\n",
       "      <th>merchant</th>\n",
       "      <th>amt</th>\n",
       "      <th>zip</th>\n",
       "      <th>city_pop</th>\n",
       "      <th>job</th>\n",
       "      <th>is_fraud</th>\n",
       "      <th>merch_zipcode</th>\n",
       "      <th>food_dining</th>\n",
       "      <th>gas_transport</th>\n",
       "      <th>grocery_net</th>\n",
       "      <th>grocery_pos</th>\n",
       "      <th>health_fitness</th>\n",
       "      <th>home</th>\n",
       "      <th>kids_pets</th>\n",
       "      <th>misc_net</th>\n",
       "      <th>misc_pos</th>\n",
       "      <th>personal_care</th>\n",
       "      <th>shopping_net</th>\n",
       "      <th>shopping_pos</th>\n",
       "      <th>travel</th>\n",
       "    </tr>\n",
       "  </thead>\n",
       "  <tbody>\n",
       "    <tr>\n",
       "      <th>0</th>\n",
       "      <td>fraud_Rippin, Kub and Mann</td>\n",
       "      <td>-0.469521</td>\n",
       "      <td>-0.749142</td>\n",
       "      <td>-0.282589</td>\n",
       "      <td>Psychologist, counselling</td>\n",
       "      <td>0</td>\n",
       "      <td>-0.754769</td>\n",
       "      <td>0</td>\n",
       "      <td>0</td>\n",
       "      <td>0</td>\n",
       "      <td>0</td>\n",
       "      <td>0</td>\n",
       "      <td>0</td>\n",
       "      <td>0</td>\n",
       "      <td>1</td>\n",
       "      <td>0</td>\n",
       "      <td>0</td>\n",
       "      <td>0</td>\n",
       "      <td>0</td>\n",
       "      <td>0</td>\n",
       "    </tr>\n",
       "    <tr>\n",
       "      <th>1</th>\n",
       "      <td>fraud_Heller, Gutmann and Zieme</td>\n",
       "      <td>0.269247</td>\n",
       "      <td>1.872566</td>\n",
       "      <td>-0.293670</td>\n",
       "      <td>Special educational needs teacher</td>\n",
       "      <td>0</td>\n",
       "      <td>1.874991</td>\n",
       "      <td>0</td>\n",
       "      <td>0</td>\n",
       "      <td>0</td>\n",
       "      <td>1</td>\n",
       "      <td>0</td>\n",
       "      <td>0</td>\n",
       "      <td>0</td>\n",
       "      <td>0</td>\n",
       "      <td>0</td>\n",
       "      <td>0</td>\n",
       "      <td>0</td>\n",
       "      <td>0</td>\n",
       "      <td>0</td>\n",
       "    </tr>\n",
       "    <tr>\n",
       "      <th>2</th>\n",
       "      <td>fraud_Lind-Buckridge</td>\n",
       "      <td>1.084737</td>\n",
       "      <td>1.281040</td>\n",
       "      <td>-0.280406</td>\n",
       "      <td>Nature conservation officer</td>\n",
       "      <td>0</td>\n",
       "      <td>1.280622</td>\n",
       "      <td>0</td>\n",
       "      <td>0</td>\n",
       "      <td>0</td>\n",
       "      <td>0</td>\n",
       "      <td>0</td>\n",
       "      <td>0</td>\n",
       "      <td>0</td>\n",
       "      <td>0</td>\n",
       "      <td>0</td>\n",
       "      <td>0</td>\n",
       "      <td>0</td>\n",
       "      <td>0</td>\n",
       "      <td>0</td>\n",
       "    </tr>\n",
       "    <tr>\n",
       "      <th>3</th>\n",
       "      <td>fraud_Kutch, Hermiston and Farrell</td>\n",
       "      <td>-0.180328</td>\n",
       "      <td>0.402750</td>\n",
       "      <td>-0.287742</td>\n",
       "      <td>Patent attorney</td>\n",
       "      <td>0</td>\n",
       "      <td>0.399593</td>\n",
       "      <td>0</td>\n",
       "      <td>1</td>\n",
       "      <td>0</td>\n",
       "      <td>0</td>\n",
       "      <td>0</td>\n",
       "      <td>0</td>\n",
       "      <td>0</td>\n",
       "      <td>0</td>\n",
       "      <td>0</td>\n",
       "      <td>0</td>\n",
       "      <td>0</td>\n",
       "      <td>0</td>\n",
       "      <td>0</td>\n",
       "    </tr>\n",
       "    <tr>\n",
       "      <th>4</th>\n",
       "      <td>fraud_Keeling-Crist</td>\n",
       "      <td>-0.202290</td>\n",
       "      <td>-0.906096</td>\n",
       "      <td>-0.293835</td>\n",
       "      <td>Dance movement psychotherapist</td>\n",
       "      <td>0</td>\n",
       "      <td>-0.973533</td>\n",
       "      <td>0</td>\n",
       "      <td>0</td>\n",
       "      <td>0</td>\n",
       "      <td>0</td>\n",
       "      <td>0</td>\n",
       "      <td>0</td>\n",
       "      <td>0</td>\n",
       "      <td>0</td>\n",
       "      <td>1</td>\n",
       "      <td>0</td>\n",
       "      <td>0</td>\n",
       "      <td>0</td>\n",
       "      <td>0</td>\n",
       "    </tr>\n",
       "  </tbody>\n",
       "</table>\n",
       "</div>"
      ],
      "text/plain": [
       "                             merchant       amt       zip  city_pop  \\\n",
       "0          fraud_Rippin, Kub and Mann -0.469521 -0.749142 -0.282589   \n",
       "1     fraud_Heller, Gutmann and Zieme  0.269247  1.872566 -0.293670   \n",
       "2                fraud_Lind-Buckridge  1.084737  1.281040 -0.280406   \n",
       "3  fraud_Kutch, Hermiston and Farrell -0.180328  0.402750 -0.287742   \n",
       "4                 fraud_Keeling-Crist -0.202290 -0.906096 -0.293835   \n",
       "\n",
       "                                 job  is_fraud  merch_zipcode  food_dining  \\\n",
       "0          Psychologist, counselling         0      -0.754769            0   \n",
       "1  Special educational needs teacher         0       1.874991            0   \n",
       "2        Nature conservation officer         0       1.280622            0   \n",
       "3                    Patent attorney         0       0.399593            0   \n",
       "4     Dance movement psychotherapist         0      -0.973533            0   \n",
       "\n",
       "   gas_transport  grocery_net  grocery_pos  health_fitness  home  kids_pets  \\\n",
       "0              0            0            0               0     0          0   \n",
       "1              0            0            1               0     0          0   \n",
       "2              0            0            0               0     0          0   \n",
       "3              1            0            0               0     0          0   \n",
       "4              0            0            0               0     0          0   \n",
       "\n",
       "   misc_net  misc_pos  personal_care  shopping_net  shopping_pos  travel  \n",
       "0         1         0              0             0             0       0  \n",
       "1         0         0              0             0             0       0  \n",
       "2         0         0              0             0             0       0  \n",
       "3         0         0              0             0             0       0  \n",
       "4         0         1              0             0             0       0  "
      ]
     },
     "execution_count": 8,
     "metadata": {},
     "output_type": "execute_result"
    }
   ],
   "source": [
    "# Scale the numerical columns\n",
    "scaler = StandardScaler()\n",
    "df_scaled = df_copy.copy()\n",
    "df_scaled[['amt', 'zip', 'city_pop', 'merch_zipcode']] = scaler.fit_transform(df_scaled[['amt', 'zip', 'city_pop', 'merch_zipcode']])\n",
    "df_scaled.head()"
   ]
  },
  {
   "cell_type": "code",
   "execution_count": 9,
   "metadata": {},
   "outputs": [],
   "source": [
    "# Scale the merchant column\n",
    "merch_freq = df_scaled['merchant'].value_counts()\n",
    "df_scaled['merchant_encoded'] = df_scaled['merchant'].apply(lambda x: merch_freq[x])\n",
    "df_scaled = df_scaled.drop(columns=['merchant'])"
   ]
  },
  {
   "cell_type": "code",
   "execution_count": 10,
   "metadata": {},
   "outputs": [],
   "source": [
    "# Scale the job column\n",
    "job_freq = df_scaled['job'].value_counts()\n",
    "df_scaled['job_encoded'] = df_scaled['job'].apply(lambda x: job_freq[x])\n",
    "df_scaled = df_scaled.drop(columns=['job'])"
   ]
  },
  {
   "cell_type": "code",
   "execution_count": 12,
   "metadata": {},
   "outputs": [],
   "source": [
    "# Split the data into training and testing sets\n",
    "X = df_scaled.drop(columns=['is_fraud'])\n",
    "y = df_scaled['is_fraud']\n",
    "X_train, X_test, y_train, y_test = train_test_split(X, y, random_state=42)"
   ]
  },
  {
   "cell_type": "code",
   "execution_count": 13,
   "metadata": {},
   "outputs": [],
   "source": [
    "# Resample the data using SMOTE\n",
    "smote = SMOTE(random_state=42)\n",
    "X_train_resampled, y_train_resampled = smote.fit_resample(X_train, y_train)"
   ]
  },
  {
   "cell_type": "code",
   "execution_count": 14,
   "metadata": {},
   "outputs": [],
   "source": [
    "# Perform a PCA on the data\n",
    "pca_model = PCA(n_components = 10)\n",
    "pca_model.fit(X_train)\n",
    "\n",
    "X_train_pca = pd.DataFrame(pca_model.transform(X_train))\n",
    "X_test_pca = pd.DataFrame(pca_model.transform(X_test))"
   ]
  },
  {
   "cell_type": "code",
   "execution_count": 16,
   "metadata": {},
   "outputs": [
    {
     "name": "stdout",
     "output_type": "stream",
     "text": [
      "Accuracy Score:\n",
      "0.9968410758851312\n",
      "\n",
      "Confusion Matrix:\n",
      "[[322032    255]\n",
      " [   769   1105]]\n",
      "\n",
      "Classification Report:\n",
      "              precision    recall  f1-score   support\n",
      "\n",
      "           0       1.00      1.00      1.00    322287\n",
      "           1       0.81      0.59      0.68      1874\n",
      "\n",
      "    accuracy                           1.00    324161\n",
      "   macro avg       0.91      0.79      0.84    324161\n",
      "weighted avg       1.00      1.00      1.00    324161\n",
      "\n",
      "Accuracy Score:\n",
      "0.9845663111848741\n",
      "\n",
      "Confusion Matrix:\n",
      "[[317554   4733]\n",
      " [   270   1604]]\n",
      "\n",
      "Classification Report:\n",
      "              precision    recall  f1-score   support\n",
      "\n",
      "           0       1.00      0.99      0.99    322287\n",
      "           1       0.25      0.86      0.39      1874\n",
      "\n",
      "    accuracy                           0.98    324161\n",
      "   macro avg       0.63      0.92      0.69    324161\n",
      "weighted avg       0.99      0.98      0.99    324161\n",
      "\n",
      "Accuracy Score:\n",
      "0.9970354237554795\n",
      "\n",
      "Confusion Matrix:\n",
      "[[322007    280]\n",
      " [   681   1193]]\n",
      "\n",
      "Classification Report:\n",
      "              precision    recall  f1-score   support\n",
      "\n",
      "           0       1.00      1.00      1.00    322287\n",
      "           1       0.81      0.64      0.71      1874\n",
      "\n",
      "    accuracy                           1.00    324161\n",
      "   macro avg       0.90      0.82      0.86    324161\n",
      "weighted avg       1.00      1.00      1.00    324161\n",
      "\n"
     ]
    }
   ],
   "source": [
    "XGB = xgb.XGBClassifier(objective='binary:logistic', random_state=42)\n",
    "evaluate_model_full(XGB, X_train, y_train, X_test, y_test, X_train_resampled, y_train_resampled, X_train_pca, X_test_pca)"
   ]
  },
  {
   "cell_type": "code",
   "execution_count": null,
   "metadata": {},
   "outputs": [
    {
     "name": "stdout",
     "output_type": "stream",
     "text": [
      "Accuracy Score:\n",
      "0.993611199373151\n",
      "\n",
      "Confusion Matrix:\n",
      "[[322090    197]\n",
      " [  1874      0]]\n",
      "\n",
      "Classification Report:\n",
      "              precision    recall  f1-score   support\n",
      "\n",
      "           0       0.99      1.00      1.00    322287\n",
      "           1       0.00      0.00      0.00      1874\n",
      "\n",
      "    accuracy                           0.99    324161\n",
      "   macro avg       0.50      0.50      0.50    324161\n",
      "weighted avg       0.99      0.99      0.99    324161\n",
      "\n"
     ]
    }
   ],
   "source": [
    "# Define a Logistic Regression model\n",
    "LogReg = LogisticRegression(solver='saga',max_iter=5000)"
   ]
  },
  {
   "cell_type": "code",
   "execution_count": null,
   "metadata": {},
   "outputs": [],
   "source": [
    "# Evaluate the Logistic Regression model\n",
    "evaluate_model_full(LogReg, X_train, y_train, X_test, y_test, X_train_resampled, y_train_resampled, X_train_pca, X_test_pca)"
   ]
  },
  {
   "cell_type": "code",
   "execution_count": null,
   "metadata": {},
   "outputs": [],
   "source": [
    "# Define a SGD model\n",
    "SGD = SGDClassifier(loss = 'log_loss', max_iter=5000, tol=1e-3, random_state=42)"
   ]
  },
  {
   "cell_type": "code",
   "execution_count": null,
   "metadata": {},
   "outputs": [],
   "source": [
    "# Evaluate the SGD model\n",
    "evaluate_model_full(SGD, X_train, y_train, X_test, y_test, X_train_resampled, y_train_resampled, X_train_pca, X_test_pca)"
   ]
  },
  {
   "cell_type": "code",
   "execution_count": null,
   "metadata": {},
   "outputs": [],
   "source": [
    "# Define a Decision Tree model\n",
    "DTC = DecisionTreeClassifier(random_state=42, max_depth=5)"
   ]
  },
  {
   "cell_type": "code",
   "execution_count": null,
   "metadata": {},
   "outputs": [],
   "source": [
    "# Evaluate the Decision Tree model\n",
    "evaluate_model_full(DTC, X_train, y_train, X_test, y_test, X_train_resampled, y_train_resampled, X_train_pca, X_test_pca)"
   ]
  },
  {
   "cell_type": "code",
   "execution_count": null,
   "metadata": {},
   "outputs": [
    {
     "name": "stdout",
     "output_type": "stream",
     "text": [
      "Accuracy Score:\n",
      "0.9845663111848741\n",
      "\n",
      "Confusion Matrix:\n",
      "[[317554   4733]\n",
      " [   270   1604]]\n",
      "\n",
      "Classification Report:\n",
      "              precision    recall  f1-score   support\n",
      "\n",
      "           0       1.00      0.99      0.99    322287\n",
      "           1       0.25      0.86      0.39      1874\n",
      "\n",
      "    accuracy                           0.98    324161\n",
      "   macro avg       0.63      0.92      0.69    324161\n",
      "weighted avg       0.99      0.98      0.99    324161\n",
      "\n"
     ]
    }
   ],
   "source": [
    "# Define an XGBoost model\n",
    "XGB = xgb.XGBClassifier(objective='binary:logistic', random_state=42)"
   ]
  },
  {
   "cell_type": "code",
   "execution_count": null,
   "metadata": {},
   "outputs": [],
   "source": [
    "# Evaluate the XGBoost model\n",
    "evaluate_model_full(XGB, X_train, y_train, X_test, y_test, X_train_resampled, y_train_resampled, X_train_pca, X_test_pca)"
   ]
  },
  {
   "cell_type": "code",
   "execution_count": 21,
   "metadata": {},
   "outputs": [],
   "source": [
    "# Define a Random Forest model\n",
    "RFC = RandomForestClassifier(n_estimators=100, random_state=42)"
   ]
  },
  {
   "cell_type": "code",
   "execution_count": null,
   "metadata": {},
   "outputs": [],
   "source": [
    "# Evaluate the Random Forest model\n",
    "evaluate_model_full(RFC, X_train, y_train, X_test, y_test, X_train_resampled, y_train_resampled, X_train_pca, X_test_pca)"
   ]
  }
 ],
 "metadata": {
  "kernelspec": {
   "display_name": "base",
   "language": "python",
   "name": "python3"
  },
  "language_info": {
   "codemirror_mode": {
    "name": "ipython",
    "version": 3
   },
   "file_extension": ".py",
   "mimetype": "text/x-python",
   "name": "python",
   "nbconvert_exporter": "python",
   "pygments_lexer": "ipython3",
   "version": "3.12.3"
  }
 },
 "nbformat": 4,
 "nbformat_minor": 2
}
